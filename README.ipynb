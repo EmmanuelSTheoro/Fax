{
 "cells": [
  {
   "cell_type": "markdown",
   "metadata": {},
   "source": [
    "# *`Fax`* : Projet de Gestion Electronique des Documents"
   ]
  },
  {
   "cell_type": "markdown",
   "metadata": {},
   "source": [
    "<div style=\"\n",
    "        display: flex;\n",
    "        justify-content: center;\n",
    "        align-items: center;\n",
    "        height: 300px;\n",
    "    \"\n",
    ">\n",
    "    <img src=\"./assets/fax-img-1.png\" width=\"100\" height=\"auto\" alt=\"Première image\" />\n",
    "    <img src=\"./Fax-logo.png\" width=\"300\" height=\"auto\" alt=\"Première image\" />\n",
    "    <img src=\"./assets/fax-img-2.png\" width=\"100\" height=\"auto\" alt=\"Première image\" />\n",
    "</div>"
   ]
  },
  {
   "cell_type": "markdown",
   "metadata": {},
   "source": [
    "## Présentation Générale"
   ]
  },
  {
   "cell_type": "markdown",
   "metadata": {},
   "source": [
    "### 1. Contexte"
   ]
  },
  {
   "cell_type": "markdown",
   "metadata": {},
   "source": [
    "Les jeunes ayant grandit en Afrique ont un rapport particulièr à l'apprentissage. La plupart d'entre nous avons étudiés par :"
   ]
  },
  {
   "cell_type": "markdown",
   "metadata": {},
   "source": [
    "- Des cours en présentiel dispensés par des instructeurs,\n",
    "- Des archives physiques et numériques mise à notre disposition ou trouver sur internet."
   ]
  },
  {
   "cell_type": "markdown",
   "metadata": {},
   "source": [
    "Compte tenu de nos réalités energétiques et de notre accès à la connectivité, une solution qui améliore ce schéma d'apprentissage serait plus viable que des solutions occidentales ; très axés sur la connectivité et le streaming."
   ]
  },
  {
   "cell_type": "markdown",
   "metadata": {},
   "source": [
    "### 2. Plan de réalisation"
   ]
  },
  {
   "cell_type": "markdown",
   "metadata": {},
   "source": [
    "### 3. Objectifs visés"
   ]
  },
  {
   "cell_type": "markdown",
   "metadata": {},
   "source": [
    "## Fonctionnalités"
   ]
  }
 ],
 "metadata": {
  "language_info": {
   "name": "python"
  }
 },
 "nbformat": 4,
 "nbformat_minor": 2
}
