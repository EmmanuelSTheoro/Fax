{
 "cells": [
  {
   "cell_type": "markdown",
   "metadata": {},
   "source": [
    "# *`Fax`* : Projet de Gestion Electronique des Documents"
   ]
  },
  {
   "cell_type": "markdown",
   "metadata": {},
   "source": [
    "<div style=\"\n",
    "        display: flex;\n",
    "        justify-content: center;\n",
    "        align-items: center;\n",
    "        height: 300px;\n",
    "    \"\n",
    ">\n",
    "    <img src=\"./assets/fax-img-1.png\" width=\"100\" height=\"auto\" alt=\"Première image\" />\n",
    "    <img src=\"./Fax-logo.png\" width=\"300\" height=\"auto\" alt=\"Première image\" />\n",
    "    <img src=\"./assets/fax-img-2.png\" width=\"100\" height=\"auto\" alt=\"Première image\" />\n",
    "</div>"
   ]
  },
  {
   "cell_type": "markdown",
   "metadata": {},
   "source": [
    "## Présentation Générale"
   ]
  },
  {
   "cell_type": "markdown",
   "metadata": {},
   "source": [
    "### 1. Contexte"
   ]
  },
  {
   "cell_type": "markdown",
   "metadata": {},
   "source": [
    "Les jeunes ayant grandit en Afrique ont un rapport particulièr à l'apprentissage. La plupart d'entre nous avons étudiés par :"
   ]
  },
  {
   "cell_type": "markdown",
   "metadata": {},
   "source": [
    "- Des cours en présentiel dispensés par des instructeurs,\n",
    "- Des archives physiques et numériques mise à notre disposition ou trouver sur internet."
   ]
  },
  {
   "cell_type": "markdown",
   "metadata": {},
   "source": [
    "Cependant, la bonne gestion des archives n'est pas une pratique profondément institutionalisée.\n",
    "Au niveau des apprenants, l'absence de normes de rangement, de conservation et de partage des documents rend difficile la construction d'une base solide d'apprentissage."
   ]
  },
  {
   "cell_type": "markdown",
   "metadata": {},
   "source": [
    "Compte tenu de nos réalités energétiques et de notre accès à la connectivité, une solution qui améliore ce schéma d'apprentissage serait plus viable que des solutions occidentales ; très axés sur la connectivité et le streaming."
   ]
  },
  {
   "cell_type": "markdown",
   "metadata": {},
   "source": [
    "### 2. Plan de réalisation"
   ]
  },
  {
   "cell_type": "markdown",
   "metadata": {},
   "source": [
    "### 3. Objectifs visés"
   ]
  },
  {
   "cell_type": "markdown",
   "metadata": {},
   "source": [
    "## Fonctionnalités"
   ]
  },
  {
   "cell_type": "markdown",
   "metadata": {},
   "source": [
    "## Technologies Utilisées"
   ]
  },
  {
   "cell_type": "markdown",
   "metadata": {},
   "source": [
    "## Installation"
   ]
  },
  {
   "cell_type": "markdown",
   "metadata": {},
   "source": [
    "## Utilisation"
   ]
  },
  {
   "cell_type": "markdown",
   "metadata": {},
   "source": [
    "## Contribution"
   ]
  },
  {
   "cell_type": "markdown",
   "metadata": {},
   "source": [
    "## Licence"
   ]
  },
  {
   "cell_type": "markdown",
   "metadata": {},
   "source": [
    "## Contact"
   ]
  },
  {
   "cell_type": "markdown",
   "metadata": {},
   "source": [
    "| *Roles* | Prénom et Nom | Github | LinkedIn | Facebook | Téléphone |\n",
    "|---------|---------------|--------|----------|----------|-----------|\n",
    "| *Chef de Projet* | Hugues DTANKOUO | [@Hugues-DTANKOUO](https://github.com/Hugues-DTANKOUO)   |   [@dtankouo](https://linkedin.com/in/dtankouo)   |   [@ing.hugues.dtankouo](https://facebook.com/ing.hugues.dtankouo)   |   [+1(819)529-4795](https://wa.me/message/RE3Z6BSVNAOTF1) |\n",
    "| Contributeur 1 | | | | | |"
   ]
  }
 ],
 "metadata": {
  "language_info": {
   "name": "python"
  }
 },
 "nbformat": 4,
 "nbformat_minor": 2
}
